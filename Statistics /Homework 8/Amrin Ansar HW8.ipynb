{
 "cells": [
  {
   "cell_type": "code",
   "execution_count": 3,
   "metadata": {},
   "outputs": [],
   "source": [
    "import numpy as np\n",
    "import pandas as pd\n",
    "import statsmodels.api as sm\n",
    "import matplotlib.pyplot as plt\n",
    "from sklearn.linear_model import LinearRegression\n",
    "import seaborn as sns"
   ]
  },
  {
   "cell_type": "markdown",
   "metadata": {},
   "source": [
    "# Task # 17.1"
   ]
  },
  {
   "cell_type": "code",
   "execution_count": 3,
   "metadata": {},
   "outputs": [
    {
     "output_type": "stream",
     "name": "stdout",
     "text": "The odds of selecting Commercial A for the women-- 0.8666666666666667\nThe odds of selecting Commercial A for the men-- 1.0634920634920633\n"
    }
   ],
   "source": [
    "p1=65/140 #the probability that women chooses Commercial A\n",
    "p0=67/130 #the probability that men chooses Commercial A\n",
    "odd_p1=(p1/(1-p1)) #the odds of selecting Commercial A for the women\n",
    "odd_p0=(p0/(1-p0)) #the odds of selecting Commercial A for the men\n",
    "print('The odds of selecting Commercial A for the women--',odd_p1)\n",
    "print('The odds of selecting Commercial A for the men--',odd_p0)"
   ]
  },
  {
   "cell_type": "markdown",
   "metadata": {},
   "source": [
    "# Task # 17.3"
   ]
  },
  {
   "cell_type": "code",
   "execution_count": 4,
   "metadata": {},
   "outputs": [
    {
     "output_type": "error",
     "ename": "NameError",
     "evalue": "name 'np' is not defined",
     "traceback": [
      "\u001b[0;31m---------------------------------------------------------------------------\u001b[0m",
      "\u001b[0;31mNameError\u001b[0m                                 Traceback (most recent call last)",
      "\u001b[0;32m<ipython-input-4-2d636523e4c2>\u001b[0m in \u001b[0;36m<module>\u001b[0;34m\u001b[0m\n\u001b[0;32m----> 1\u001b[0;31m \u001b[0mlog_men\u001b[0m\u001b[0;34m=\u001b[0m\u001b[0mnp\u001b[0m\u001b[0;34m.\u001b[0m\u001b[0mlog\u001b[0m\u001b[0;34m(\u001b[0m\u001b[0modd_p0\u001b[0m\u001b[0;34m)\u001b[0m\u001b[0;34m\u001b[0m\u001b[0;34m\u001b[0m\u001b[0m\n\u001b[0m\u001b[1;32m      2\u001b[0m \u001b[0mlog_women\u001b[0m\u001b[0;34m=\u001b[0m\u001b[0mnp\u001b[0m\u001b[0;34m.\u001b[0m\u001b[0mlog\u001b[0m\u001b[0;34m(\u001b[0m\u001b[0modd_p1\u001b[0m\u001b[0;34m)\u001b[0m\u001b[0;34m\u001b[0m\u001b[0;34m\u001b[0m\u001b[0m\n\u001b[1;32m      3\u001b[0m \u001b[0mprint\u001b[0m\u001b[0;34m(\u001b[0m\u001b[0mlog_men\u001b[0m\u001b[0;34m)\u001b[0m\u001b[0;34m\u001b[0m\u001b[0;34m\u001b[0m\u001b[0m\n\u001b[1;32m      4\u001b[0m \u001b[0mprint\u001b[0m\u001b[0;34m(\u001b[0m\u001b[0mlog_women\u001b[0m\u001b[0;34m)\u001b[0m\u001b[0;34m\u001b[0m\u001b[0;34m\u001b[0m\u001b[0m\n",
      "\u001b[0;31mNameError\u001b[0m: name 'np' is not defined"
     ]
    }
   ],
   "source": [
    "log_men=np.log(odd_p0)\n",
    "log_women=np.log(odd_p1)\n",
    "print(log_men)\n",
    "print(log_women)"
   ]
  },
  {
   "cell_type": "markdown",
   "metadata": {},
   "source": [
    "# Task # 17.5"
   ]
  },
  {
   "cell_type": "code",
   "execution_count": 5,
   "metadata": {},
   "outputs": [
    {
     "name": "stdout",
     "output_type": "stream",
     "text": [
      "b0= -0.1431008436406733 b1= 0.20465873664010645\n",
      "odds ratio= 1.2271062271062267\n"
     ]
    }
   ],
   "source": [
    "b0=log_women\n",
    "b1=log_men-b0\n",
    "print('b0=',b0,'b1=',b1)\n",
    "odds=np.e**b1\n",
    "print('odds ratio=',odds)\n",
    "# fit_log_model=b0+b1*x"
   ]
  },
  {
   "cell_type": "markdown",
   "metadata": {},
   "source": [
    "# Task # 17.7"
   ]
  },
  {
   "cell_type": "code",
   "execution_count": null,
   "metadata": {},
   "outputs": [],
   "source": [
    "odds = (np.e)**(-1.41+(0.781*(x+1)))\n",
    "odd = (np.e)**(-1.41+(0.781*x))\n",
    "result = odds/odd\n",
    "results"
   ]
  },
  {
   "cell_type": "markdown",
   "metadata": {},
   "source": [
    "# Task # 17.9"
   ]
  },
  {
   "cell_type": "code",
   "execution_count": 6,
   "metadata": {},
   "outputs": [],
   "source": [
    "#log(odds) = –0.14306 + 0.20472x. The odds ratio estimate is 1.227; the 95% confidence interval is (0.761, 1.979).\n",
    "#Здесь все аналогично как и в предыдущем,но для нахождения confidence interval я не смог найти датасет чтобы взять std"
   ]
  },
  {
   "cell_type": "markdown",
   "metadata": {},
   "source": [
    "# Task # 17.11"
   ]
  },
  {
   "cell_type": "code",
   "execution_count": 7,
   "metadata": {},
   "outputs": [
    {
     "name": "stdout",
     "output_type": "stream",
     "text": [
      "A 95% confidence interval from  2.350293937982999 to 3.867306062017001\n"
     ]
    }
   ],
   "source": [
    "import scipy.stats as stats\n",
    "SEb1=0.387\n",
    "b1=3.1088\n",
    "z_critical=stats.norm.ppf(q=0.975)\n",
    "lower_limit=b1-z_critical*SEb1\n",
    "upper_limit=b1+z_critical*SEb1\n",
    "print(\"A 95% confidence interval from \",lower_limit,\"to\",upper_limit )"
   ]
  },
  {
   "cell_type": "markdown",
   "metadata": {},
   "source": [
    "# Task # 17.13"
   ]
  },
  {
   "cell_type": "code",
   "execution_count": 8,
   "metadata": {},
   "outputs": [
    {
     "name": "stdout",
     "output_type": "stream",
     "text": [
      "8.012886597938143 X^2 is 64.20635163141671\n"
     ]
    }
   ],
   "source": [
    "#Part A\n",
    "b1=3.109\n",
    "SEB1=0.388\n",
    "Z_Value=b1/SEB1\n",
    "#Part B\n",
    "X=Z_Value**2\n",
    "print(Z_Value,\"X^2 is\",X)"
   ]
  },
  {
   "cell_type": "markdown",
   "metadata": {},
   "source": [
    "# Task # 17.15"
   ]
  },
  {
   "cell_type": "code",
   "execution_count": 9,
   "metadata": {},
   "outputs": [
    {
     "name": "stdout",
     "output_type": "stream",
     "text": [
      "7.389056098930646 7.3890560989306495\n"
     ]
    }
   ],
   "source": [
    "#a.)If b1 = 2 in a logistic regression analysis, we estimate that the probability of an event is multiplied by 2 when the value of the explanatory variable changes by 1. \n",
    "#For answer this, we use formula p/(1-p) <- this prob of event and it's equal to e^(b0+b1*x)\n",
    "#p - prob\n",
    "b0 = 0.6#Random number for intercept\n",
    "b1 = 2#Given number for slope in task\n",
    "x = 1#Random number\n",
    "p = np.e**(b0+b1*x)\n",
    "#Afted x+=1\n",
    "x = 2\n",
    "p2 = np.e**(b0+b1*x)\n",
    "dif = p2/p\n",
    "print(dif, np.e**2)#In other words, odds will increase e^2"
   ]
  },
  {
   "cell_type": "code",
   "execution_count": 10,
   "metadata": {},
   "outputs": [],
   "source": [
    "#b.)  The intercept b0 is equal to the odds of an event when x = 0.\n",
    "#Yes, because we have formula log(p/(1-p)) = b0+b1*x, when x = 0, we will have --> b0 = log(p/(1-p))"
   ]
  },
  {
   "cell_type": "code",
   "execution_count": 11,
   "metadata": {},
   "outputs": [],
   "source": [
    "#c.) The odds of an event are 1 minus the probability of the event\n",
    "#No, odds = p/(1-p)"
   ]
  },
  {
   "cell_type": "markdown",
   "metadata": {},
   "source": [
    "# Task # 17.17"
   ]
  },
  {
   "cell_type": "code",
   "execution_count": 12,
   "metadata": {},
   "outputs": [],
   "source": [
    "#a.) From 17.16 task and when 20 mln dollars. We need to find probablity of succes\n",
    "#log(p/(1-p)) = b0+b1*x --> where b0, b1 = -1.41, 0.781 . Then p = e^(-1.41+0.781*x)/(1+e^(-1.41+0.781*x))\n",
    "b0 = -1.41\n",
    "b1 = 0.781\n",
    "x1 = np.log(20)\n",
    "x2 = np.log(35)\n",
    "x3 = np.log(50)\n",
    "x = np.array([x1, x2, x3])\n",
    "p = 1 / (1 + np.exp(-b0-b1*x))"
   ]
  },
  {
   "cell_type": "markdown",
   "metadata": {},
   "source": [
    "# Task # 17.19\n"
   ]
  },
  {
   "cell_type": "code",
   "execution_count": 13,
   "metadata": {},
   "outputs": [
    {
     "name": "stdout",
     "output_type": "stream",
     "text": [
      "Senior adults give 25.8%  less than who aren't senior\n",
      "On sunday people give 0.3%  less than who don't come on Sunday\n",
      "Who speak English as second language give 26.4%  less than who don't speak English as second language\n",
      "Who speak French language and Canadian give 21.6%  less than who don't speak French language and not Candianian\n",
      "Who drunk alcohol give 12.5%  more than who don't order alcohol and drunk it\n",
      "Lone male give 2.2%  more than who have pair\n"
     ]
    }
   ],
   "source": [
    "#Okay we have already odds, so just summary:\n",
    "Senior_adult = 0.7420\n",
    "Sunday = 0.9970\n",
    "English_as_second_language = 0.7360\n",
    "French_speaking_Canadian = 0.7840\n",
    "Alocoholic_drinks = 1.1250\n",
    "Lone_male = 1.0220\n",
    "print(\"Senior adults give \"+str((1-Senior_adult)*100)+\"% \"+\" less than who aren't senior\")\n",
    "print(\"On sunday people give \"+str(round((1-Sunday)*100,1))+\"% \"+\" less than who don't come on Sunday\")\n",
    "print(\"Who speak English as second language give \"+str((round((1-English_as_second_language)*100,1)))+\"% \"+\" less than who don't speak English as second language\")\n",
    "print(\"Who speak French language and Canadian give \"+str(round((1-French_speaking_Canadian)*100,1))+\"% \"+\" less than who don't speak French language and not Candianian\")\n",
    "print(\"Who drunk alcohol give \"+str(abs(1-Alocoholic_drinks)*100)+\"% \"+\" more than who don't order alcohol and drunk it\")\n",
    "print(\"Lone male give \"+str(abs(round((1-Lone_male)*100,1)))+\"% \"+\" more than who have pair\")"
   ]
  },
  {
   "cell_type": "markdown",
   "metadata": {},
   "source": [
    "# Task # 17.21"
   ]
  },
  {
   "cell_type": "code",
   "execution_count": 14,
   "metadata": {},
   "outputs": [],
   "source": [
    "#a.) Explain the relationship between the confidence intervals reported here and the results of the z significance tests that you found in the previous exercise. \n",
    "#If odds ratio is 1, it means that event or condition will be equally. From thos, if confidence interval includes 1, we can say that the variable is not significiantgnificant."
   ]
  },
  {
   "cell_type": "code",
   "execution_count": 15,
   "metadata": {},
   "outputs": [],
   "source": [
    "#b.) Interpret the results in terms of the odds ratios. \n",
    "#From (a)* Task we know if conf interval contain 1, then variable is not significiant at lvl 0.5. In b task, only Men's magazine contain 1, so only this is not significiant and others significiant"
   ]
  },
  {
   "cell_type": "code",
   "execution_count": 16,
   "metadata": {},
   "outputs": [],
   "source": [
    "#c.)  Write a short summary explaining the results. Include comments regarding the usefulness of the fitted coefficients versus the odds ratios in making a summary. \n",
    "#Mature readers are 1.27 to 2.16 times as likely to observe not sexual clothing on model as young readers Male model's clothing is 2.74 to 5.01 times as likely than female model's clothing to be not sexual. When target auditory is women, the model clothing is 1.11 to 2.23 times as likely to be not sexual as in other journals. The odds ratios are often much easier to interpret than the fitted coefficients because we can interpret them as ratio of likeliness.\n",
    "#Adult readers are 1.27–2.16 times more likely to show non-sexual clothing on models than younger readers.Clothing of a Male model is 2.74-5.01 times more often than clothing of a female model is not sexual. When women are the target audience, the likelihood that model clothes will be 1.11-2.23 times higher than in other magazines will be higher.Odds relationships are often much easier to interpret than fitted odds, because we can interpret them as likelihood ratios."
   ]
  },
  {
   "cell_type": "markdown",
   "metadata": {},
   "source": [
    "# Task # 17.23"
   ]
  },
  {
   "cell_type": "code",
   "execution_count": 17,
   "metadata": {},
   "outputs": [],
   "source": [
    "#a.) a) Women are 0.87 times more likely to use the website than men. Those who use the Internet daily are 4.16 times more likely to use the site than those who do not. Older people are 0.81 times less likely to visit a website than people from a younger group. People from a larger community are 0.85 times more likely to use a website than from a smaller community. Other odds ratios are not significant, if know from task 17.21 (a)*"
   ]
  },
  {
   "cell_type": "code",
   "execution_count": 18,
   "metadata": {},
   "outputs": [
    {
     "name": "stdout",
     "output_type": "stream",
     "text": [
      "Sex: -0.13926206733350766\n",
      "Daily internet traffic: 1.425515074273172\n",
      "Age: -0.21072103131565253\n",
      "Income: 0.009950330853168092\n",
      "Size: -0.16251892949777494\n",
      "Education: -0.030459207484708574\n",
      "Intercept: -0.4155154439616658\n"
     ]
    }
   ],
   "source": [
    "#b.) \n",
    "Sex = np.log(0.87)\n",
    "Daily_internet_traffic = np.log(4.16)\n",
    "Age = np.log(0.81)\n",
    "Income = np.log(1.01)\n",
    "Size = np.log(0.85)\n",
    "Education = np.log(0.97)\n",
    "Intercept = np.log(0.66)\n",
    "#- - - - - - - - - - - - - - - - - - - - - - - - - - - - - - \n",
    "print(\"Sex: \"+str(Sex))\n",
    "print(\"Daily internet traffic: \"+str(Daily_internet_traffic))\n",
    "print(\"Age: \"+str(Age))\n",
    "print(\"Income: \"+str(Income))\n",
    "print(\"Size: \"+str(Size))\n",
    "print(\"Education: \"+str(Education))\n",
    "print(\"Intercept: \"+str(Intercept))"
   ]
  },
  {
   "cell_type": "code",
   "execution_count": 19,
   "metadata": {},
   "outputs": [
    {
     "name": "stdout",
     "output_type": "stream",
     "text": [
      "Odds = 0.6534978765999487\n"
     ]
    }
   ],
   "source": [
    "#c.)By task if men = 0, day = 1, age_cat = 3, income = 4, ...\n",
    "odds = np.e**(Sex*0 + Daily_internet_traffic + Age*3 + Income*4 + Size*5 + Education + Intercept)\n",
    "print('Odds =', odds)"
   ]
  },
  {
   "cell_type": "markdown",
   "metadata": {},
   "source": [
    "# Task # 17.25"
   ]
  },
  {
   "cell_type": "code",
   "execution_count": 21,
   "metadata": {},
   "outputs": [
    {
     "name": "stdout",
     "output_type": "stream",
     "text": [
      "oddsa: 4.056 pa: 0.802\n"
     ]
    }
   ],
   "source": [
    "#a.)\n",
    "N = 200\n",
    "listed = 91\n",
    "not_listed = 109\n",
    "high_tech = 73\n",
    "not_high_tech = 75 \n",
    "pa = high_tech / listed \n",
    "oddsa = pa / (1 - pa)#From formula odds = p/(1-p)\n",
    "print(\"oddsa: \"+ str(round(oddsa,3)) + \" pa: \"+str(round(pa,3)))"
   ]
  },
  {
   "cell_type": "code",
   "execution_count": 23,
   "metadata": {},
   "outputs": [
    {
     "name": "stdout",
     "output_type": "stream",
     "text": [
      "oddsb: 2.206 pb: 0.688\n"
     ]
    }
   ],
   "source": [
    "#b.)\n",
    "pb = not_high_tech / not_listed\n",
    "oddsb = pb / (1 - pb)\n",
    "print(\"oddsb: \"+ str(round(oddsb,3)) + \" pb: \"+str(round(pb,3)))"
   ]
  },
  {
   "cell_type": "code",
   "execution_count": 24,
   "metadata": {},
   "outputs": [
    {
     "name": "stdout",
     "output_type": "stream",
     "text": [
      "Result: 1.838518518518519\n",
      "Conclusion: The high-tech companies are 1.8385 times more than the non-high-tech companies, in to offer incentive stock options to key employees.\n"
     ]
    }
   ],
   "source": [
    "#c.)\n",
    "oddsc = oddsa / oddsb\n",
    "print(\"Result: \"+ str(oddsc))\n",
    "print(\"Conclusion: The high-tech companies are 1.8385 times more than the non-high-tech companies, in to offer incentive stock options to key employees.\")"
   ]
  },
  {
   "cell_type": "markdown",
   "metadata": {},
   "source": [
    "# Task # 17.27"
   ]
  },
  {
   "cell_type": "code",
   "execution_count": 25,
   "metadata": {},
   "outputs": [
    {
     "name": "stdout",
     "output_type": "stream",
     "text": [
      "Conf interval for b1: [-0.047,1.265]\n"
     ]
    }
   ],
   "source": [
    "# a)#HAHAHAHAH, 17.27 --> 17.26 --> 17.25 =D\n",
    "# Odds in log\n",
    "lOddsa = np.log(oddsa) \n",
    "lOddsb = np.log(oddsb)\n",
    "# Odds in log(lodds) = b0 + b1*0 = nonTech_lodds, when x = 0\n",
    "b0 = lOddsb \n",
    "b1 = lOddsa - b0\n",
    "standErr = 0.3347\n",
    "conf = 0.95\n",
    "a = 1 - conf\n",
    "a = a/2\n",
    "conf = 1 - a#Because it's two tailed\n",
    "from scipy import stats\n",
    "z = stats.norm.ppf(conf)\n",
    "lowerb = b1 - standErr*z\n",
    "upperb = b1 + standErr*z\n",
    "print(\"Conf interval for b1: \"+\"[\"+str(round(lowerb,3))+\",\"+str(round(upperb,3))+\"]\")"
   ]
  },
  {
   "cell_type": "code",
   "execution_count": 26,
   "metadata": {},
   "outputs": [
    {
     "name": "stdout",
     "output_type": "stream",
     "text": [
      "[0.954049376731081,3.5429511568019163]\n"
     ]
    }
   ],
   "source": [
    "# b)Ahahah, when x = 0, it will be like this\n",
    "print('['+str(np.e**lowerb)+','+str(np.e**upperb)+']')"
   ]
  },
  {
   "cell_type": "code",
   "execution_count": 27,
   "metadata": {},
   "outputs": [],
   "source": [
    "#c.)\n",
    "#Because conf interval of oddsratio includes 1, there is no significant effect in proportions of different types of companies"
   ]
  },
  {
   "cell_type": "markdown",
   "metadata": {},
   "source": [
    "# Task # 17.29"
   ]
  },
  {
   "cell_type": "code",
   "execution_count": 28,
   "metadata": {},
   "outputs": [
    {
     "name": "stdout",
     "output_type": "stream",
     "text": [
      "Proportion, who said YES:  0.497\n",
      "Odds of who said YES: 0.9897\n",
      "Proportion, who said NO 0.503\n",
      "Odds of who said NO: 1.01\n"
     ]
    }
   ],
   "source": [
    "#I am lazy :D\n",
    "Survied = 193 # all survey\n",
    "Yes = 96 # replied yes\n",
    "#a.)\n",
    "p = Yes/Survied # proportion who said yes\n",
    "print(\"Proportion, who said YES: \",round(p,3))\n",
    "#b.)\n",
    "print('Odds of who said YES:', round(p/(1 - p),4))\n",
    "#c.)\n",
    "No = Survied - Yes\n",
    "p1 = (No) /Survied\n",
    "print(\"Proportion, who said NO\",round(p1,3))\n",
    "#d.)\n",
    "print('Odds of who said NO:', round(p1/(1 - p1),3))"
   ]
  },
  {
   "cell_type": "markdown",
   "metadata": {},
   "source": [
    "# Task # 17.31"
   ]
  },
  {
   "cell_type": "code",
   "execution_count": 29,
   "metadata": {},
   "outputs": [
    {
     "name": "stdout",
     "output_type": "stream",
     "text": [
      "Task A:\n",
      "b0: -3.502 b1: 1.037\n",
      "[1.644,4.841]\n"
     ]
    }
   ],
   "source": [
    "#a.)\n",
    "#First for Terminated, and second over 40\n",
    "Yes_No = 17 # Terminated - Yes, Over 40 - No\n",
    "Yes_Yes = 71\n",
    "No_No = 564\n",
    "No_Yes = 835\n",
    "All = No_Yes + Yes_Yes + No_No + Yes_No\n",
    "p1 = Yes_No / (Yes_No+No_No) # Proportion of under 40 aged who are terminated\n",
    "lodds1 = np.log(p1/(1 - p1))# It's mean log(odds) = log(p1/(1-p1))\n",
    "p2 = Yes_Yes/(Yes_Yes+No_Yes) # Proportion of over 40 aged who are terminated\n",
    "lodds2 = np.log(p2/(1 - p2))\n",
    "b0 = lodds1 # log(odds) = b0 + b1*0 = log(odds,who under40)\n",
    "b1 = lodds2 - b0\n",
    "print(\"Task A:\")\n",
    "print(\"b0:\", round(b0,3), \"b1:\", round(b1,3))\n",
    "#b.) Omg, I don't want to answer  . . .\n",
    "#c.)\n",
    "SE = 0.2755\n",
    "conf = 0.95\n",
    "a = 1-conf\n",
    "a = a/2\n",
    "conf = 1-a\n",
    "z = stats.norm.ppf(conf)\n",
    "print(\"[\"+str(round(np.e**(b1 - z*SE),3))+\",\"+str(round(np.e**(b1 + z*SE),3))+\"]\")\n",
    "#d.) We have conf interval which doesn't contain 1, we can say that the variable \"age\" is significant at 0.05 level."
   ]
  },
  {
   "cell_type": "markdown",
   "metadata": {},
   "source": [
    "# Task # 17.33"
   ]
  },
  {
   "cell_type": "code",
   "execution_count": 30,
   "metadata": {},
   "outputs": [
    {
     "name": "stdout",
     "output_type": "stream",
     "text": [
      "log(odds) = -0.02822768062486732 + 0.6393004826600597*x\n",
      "odds ratio = 1.8951547219341272\n",
      "Conclusion, we have odds ratio who have completed college are 1.895 times more likely to use the Internet for travel arrangments than those who have not commpleted college\n"
     ]
    }
   ],
   "source": [
    "Internet_users = 1132\n",
    "Int_Completed_college = 643\n",
    "Nonusers = 852\n",
    "NoNInt_Completed_college = 349\n",
    "p1 = Int_Completed_college/ (Int_Completed_college + NoNInt_Completed_college) # proportion of graduated who use the Internet\n",
    "lodds1 = np.log(p1/(1 - p1))\n",
    "p2 = (Internet_users - Int_Completed_college) / ((Internet_users - Int_Completed_college) +( Nonusers - NoNInt_Completed_college)) # Proportion of non-graduated who use Internet\n",
    "lodds2 = np.log(p2 / (1 - p2))\n",
    "b0 = lodds2 # log_odds = b0 + b1*0 = log_odds_non-graduated\n",
    "b1 = lodds1 - b0\n",
    "print(f\"log(odds) = {b0} + {b1}*x\")\n",
    "print(f\"odds ratio = {np.e**(b1)}\")\n",
    "print(\"Conclusion, we have odds ratio who have completed college are 1.895 times more likely to use the Internet for travel arrangments than those who have not commpleted college\")"
   ]
  },
  {
   "cell_type": "markdown",
   "metadata": {},
   "source": [
    "# Task # 17.35"
   ]
  },
  {
   "cell_type": "code",
   "execution_count": 31,
   "metadata": {},
   "outputs": [],
   "source": [
    "#Where is explanatory variable. I can't click \"RIF\""
   ]
  },
  {
   "cell_type": "markdown",
   "metadata": {},
   "source": [
    "# Task # 17.37"
   ]
  },
  {
   "cell_type": "code",
   "execution_count": 32,
   "metadata": {},
   "outputs": [],
   "source": [
    "#Also the same like 17.35"
   ]
  },
  {
   "cell_type": "markdown",
   "metadata": {},
   "source": [
    "# Task # 17.39"
   ]
  },
  {
   "cell_type": "code",
   "execution_count": 33,
   "metadata": {},
   "outputs": [
    {
     "name": "stdout",
     "output_type": "stream",
     "text": [
      "Division 0: -1.5715186775718069\n",
      "Division 1: -1.3249254147435987\n",
      "Division 2: -1.1308731508863312\n"
     ]
    }
   ],
   "source": [
    "#a.) From task 17.38 \n",
    "Percent = np.array([17.2,21,24.4])\n",
    "Result = np.log((Percent/100)/(1-(Percent/100)))\n",
    "i = 0\n",
    "for f in Result:\n",
    "    print(f\"Division {i}: {f}\")\n",
    "    i+=1"
   ]
  },
  {
   "cell_type": "code",
   "execution_count": 34,
   "metadata": {},
   "outputs": [
    {
     "data": {
      "image/png": "[encoded data removed]",
      "text/plain": [
       "<Figure size 432x288 with 1 Axes>"
      ]
     },
     "metadata": {
      "needs_background": "light"
     },
     "output_type": "display_data"
    }
   ],
   "source": [
    "#b.)\n",
    "import matplotlib.pyplot as plt\n",
    "plt.scatter(Percent, Result)\n",
    "fig = plt.plot(Percent,Result, lw=4, c='red')\n",
    "plt.show()\n",
    "#How you can see, from Division, result is increase"
   ]
  },
  {
   "cell_type": "code",
   "execution_count": 35,
   "metadata": {},
   "outputs": [],
   "source": [
    "#c.) We have relationship is quite linear so we could use a regression analysis."
   ]
  }
 ],
 "metadata": {
  "kernelspec": {
   "display_name": "Python 3",
   "language": "python",
   "name": "python3"
  },
  "language_info": {
   "codemirror_mode": {
    "name": "ipython",
    "version": 3
   },
   "file_extension": ".py",
   "mimetype": "text/x-python",
   "name": "python",
   "nbconvert_exporter": "python",
   "pygments_lexer": "ipython3",
   "version": "3.7.6-final"
  }
 },
 "nbformat": 4,
 "nbformat_minor": 4
}